{
 "cells": [
  {
   "cell_type": "code",
   "execution_count": 1,
   "id": "0a93999c",
   "metadata": {},
   "outputs": [],
   "source": [
    "import os\n",
    "import warnings\n",
    "warnings.simplefilter(action='ignore', category=FutureWarning)\n",
    "warnings.simplefilter(action='ignore', category=UserWarning)"
   ]
  },
  {
   "cell_type": "code",
   "execution_count": 2,
   "id": "beba1a58",
   "metadata": {},
   "outputs": [
    {
     "name": "stderr",
     "output_type": "stream",
     "text": [
      "Global seed set to 0\n"
     ]
    }
   ],
   "source": [
    "from polyphony import Polyphony\n",
    "from polyphony.data import QryAnnDataManager, RefAnnDataManager\n",
    "from polyphony.tool import projection"
   ]
  },
  {
   "cell_type": "markdown",
   "id": "e6c4cbfc",
   "metadata": {},
   "source": [
    "# Use your own dataset \n",
    "\n",
    "You may create your own dataset from AnnData files (.h5ad). \\\n",
    "This example uses the `Pancreas` dataset shown in the `1. Basic Usage` example. "
   ]
  },
  {
   "cell_type": "code",
   "execution_count": 3,
   "id": "dd618fbf",
   "metadata": {},
   "outputs": [],
   "source": [
    "import scanpy as sc\n",
    "import gdown\n",
    "\n",
    "condition_key = 'study'\n",
    "target_conditions = ['Pancreas inDrop']\n",
    "output_filename = './pancreas.h5ad'\n",
    "\n",
    "if not os.path.exists(output_filename):\n",
    "    url = 'https://drive.google.com/uc?confirm=pbef&id=1ehxgfHTsMZXy6YzlFKGJOsBKQ5rrvMnd'\n",
    "    gdown.download(url, output_filename, quiet=False)"
   ]
  },
  {
   "cell_type": "markdown",
   "id": "cab3d6ca",
   "metadata": {},
   "source": [
    "The `Pancreas` dataset contains sequencing results from five experiments with different sequencing techniques. \\\n",
    "We separate the dataset into a reference set (cells generated using a plate-based protocol) and a query set (cells generated using a droplet-based protocol, i.e., `adata.obs['study'].isin(['Pancreas inDrop'])`)."
   ]
  },
  {
   "cell_type": "code",
   "execution_count": 4,
   "id": "01275cc5",
   "metadata": {},
   "outputs": [],
   "source": [
    "adata = sc.read(output_filename).raw.to_adata()\n",
    "ref_adata = adata[~adata.obs[condition_key].isin(target_conditions)].copy()\n",
    "qry_adata = adata[adata.obs[condition_key].isin(target_conditions)].copy()"
   ]
  },
  {
   "cell_type": "code",
   "execution_count": 5,
   "id": "4296861b",
   "metadata": {},
   "outputs": [
    {
     "data": {
      "text/html": [
       "<div>\n",
       "<style scoped>\n",
       "    .dataframe tbody tr th:only-of-type {\n",
       "        vertical-align: middle;\n",
       "    }\n",
       "\n",
       "    .dataframe tbody tr th {\n",
       "        vertical-align: top;\n",
       "    }\n",
       "\n",
       "    .dataframe thead th {\n",
       "        text-align: right;\n",
       "    }\n",
       "</style>\n",
       "<table border=\"1\" class=\"dataframe\">\n",
       "  <thead>\n",
       "    <tr style=\"text-align: right;\">\n",
       "      <th></th>\n",
       "      <th>batch</th>\n",
       "      <th>study</th>\n",
       "      <th>cell_type</th>\n",
       "      <th>size_factors</th>\n",
       "    </tr>\n",
       "    <tr>\n",
       "      <th>index</th>\n",
       "      <th></th>\n",
       "      <th></th>\n",
       "      <th></th>\n",
       "      <th></th>\n",
       "    </tr>\n",
       "  </thead>\n",
       "  <tbody>\n",
       "    <tr>\n",
       "      <th>0-1-0-0-0</th>\n",
       "      <td>0</td>\n",
       "      <td>Pancreas CelSeq2</td>\n",
       "      <td>Pancreas Alpha</td>\n",
       "      <td>15213.940430</td>\n",
       "    </tr>\n",
       "    <tr>\n",
       "      <th>2-1-0-0-0</th>\n",
       "      <td>0</td>\n",
       "      <td>Pancreas CelSeq2</td>\n",
       "      <td>Pancreas Delta</td>\n",
       "      <td>11714.072266</td>\n",
       "    </tr>\n",
       "    <tr>\n",
       "      <th>3-1-0-0-0</th>\n",
       "      <td>0</td>\n",
       "      <td>Pancreas CelSeq2</td>\n",
       "      <td>Pancreas Beta</td>\n",
       "      <td>26895.630859</td>\n",
       "    </tr>\n",
       "    <tr>\n",
       "      <th>4-1-0-0-0</th>\n",
       "      <td>0</td>\n",
       "      <td>Pancreas CelSeq2</td>\n",
       "      <td>Pancreas Ductal</td>\n",
       "      <td>12899.861328</td>\n",
       "    </tr>\n",
       "    <tr>\n",
       "      <th>5-1-0-0-0</th>\n",
       "      <td>0</td>\n",
       "      <td>Pancreas CelSeq2</td>\n",
       "      <td>Pancreas Ductal</td>\n",
       "      <td>17666.962891</td>\n",
       "    </tr>\n",
       "  </tbody>\n",
       "</table>\n",
       "</div>"
      ],
      "text/plain": [
       "          batch             study        cell_type  size_factors\n",
       "index                                                           \n",
       "0-1-0-0-0     0  Pancreas CelSeq2   Pancreas Alpha  15213.940430\n",
       "2-1-0-0-0     0  Pancreas CelSeq2   Pancreas Delta  11714.072266\n",
       "3-1-0-0-0     0  Pancreas CelSeq2    Pancreas Beta  26895.630859\n",
       "4-1-0-0-0     0  Pancreas CelSeq2  Pancreas Ductal  12899.861328\n",
       "5-1-0-0-0     0  Pancreas CelSeq2  Pancreas Ductal  17666.962891"
      ]
     },
     "execution_count": 5,
     "metadata": {},
     "output_type": "execute_result"
    }
   ],
   "source": [
    "ref_adata.obs.head()"
   ]
  },
  {
   "cell_type": "markdown",
   "id": "4aa33973",
   "metadata": {},
   "source": [
    "When building a Reference Dataset or a Query Dataset for Polyphony, you need to at least specify the following `key` names.\n",
    "* `batch_key`: the name of the **batch name** field in `adata.obs`\n",
    "* `cell_type_key`: the name of the **cell type** field in `adata.obs`\n",
    "* `pred_key`: the name of a reserved field in `adata.obs` for cell type predictions"
   ]
  },
  {
   "cell_type": "code",
   "execution_count": 6,
   "id": "c794d07a",
   "metadata": {},
   "outputs": [],
   "source": [
    "batch_key = 'study'\n",
    "cell_type_key = 'cell_type'\n",
    "pred_key = 'cell_type_pred'\n",
    "\n",
    "ref_dataset = RefAnnDataManager(ref_adata, {'batch_key': batch_key, 'cell_type_key': cell_type_key})\n",
    "qry_dataset = QryAnnDataManager(qry_adata, {'batch_key': batch_key, 'pred_key': pred_key})"
   ]
  },
  {
   "cell_type": "code",
   "execution_count": 7,
   "id": "078e4356",
   "metadata": {},
   "outputs": [],
   "source": [
    "pp = Polyphony('test', ref_dataset, qry_dataset)"
   ]
  }
 ],
 "metadata": {
  "kernelspec": {
   "display_name": "polyphony",
   "language": "python",
   "name": "polyphony"
  },
  "language_info": {
   "codemirror_mode": {
    "name": "ipython",
    "version": 3
   },
   "file_extension": ".py",
   "mimetype": "text/x-python",
   "name": "python",
   "nbconvert_exporter": "python",
   "pygments_lexer": "ipython3",
   "version": "3.8.0"
  }
 },
 "nbformat": 4,
 "nbformat_minor": 5
}
