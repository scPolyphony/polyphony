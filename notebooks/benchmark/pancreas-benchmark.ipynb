{
 "cells": [
  {
   "cell_type": "code",
   "execution_count": null,
   "id": "fe90ef28",
   "metadata": {},
   "outputs": [],
   "source": [
    "import copy\n",
    "import os\n",
    "import warnings\n",
    "\n",
    "import pandas as pd\n",
    "import numpy as np\n",
    "from scipy.stats import entropy\n",
    "\n",
    "warnings.simplefilter(action='ignore', category=FutureWarning)\n",
    "warnings.simplefilter(action='ignore', category=UserWarning)\n",
    "warnings.simplefilter(action='ignore', category=pd.errors.PerformanceWarning)\n",
    "warnings.simplefilter(action='ignore', category=pd.core.common.SettingWithCopyWarning) "
   ]
  },
  {
   "cell_type": "code",
   "execution_count": null,
   "id": "730b4ef6",
   "metadata": {},
   "outputs": [],
   "source": [
    "from polyphony import Polyphony\n",
    "from polyphony.data import load_pancreas\n",
    "from polyphony.tool import eval, projection"
   ]
  },
  {
   "cell_type": "code",
   "execution_count": null,
   "id": "bb784be5",
   "metadata": {},
   "outputs": [],
   "source": [
    "def auto_confirm(pp, entropy_threshold=0.5):\n",
    "    \n",
    "    n_cells = len(pp.ref.cell_type.unique())\n",
    "    norm_threshold = entropy_threshold * np.log2(n_cells)\n",
    "    \n",
    "    def valid_anchor(anchor):\n",
    "        cell_ids = [cell['cell_id'] for cell in anchor.cells]\n",
    "        qry_cells = pp.qry.adata.obs.loc[cell_ids]\n",
    "        ref_cells = pp.ref.adata.obs[pp.ref.anchor_assign == str(anchor.reference_id)]\n",
    "        if entropy(qry_cells['cell_type'].value_counts()) >= norm_threshold:\n",
    "            return False\n",
    "        if qry_cells['cell_type'].value_counts().index[0] != \\\n",
    "            ref_cells['cell_type'].value_counts().index[0]:\n",
    "            return False\n",
    "        return True\n",
    "    \n",
    "    for a in pp.anchors:\n",
    "        if not a.confirmed and valid_anchor(a):\n",
    "            pp.confirm_anchor(a.id)\n",
    "            \n",
    "            \n",
    "def confirm_all(pp):\n",
    "    for anchor in pp.anchors:\n",
    "        pp.confirm_anchor(anchor.id)"
   ]
  },
  {
   "cell_type": "code",
   "execution_count": null,
   "id": "7cbac0b5",
   "metadata": {},
   "outputs": [],
   "source": [
    "import matplotlib.pyplot as plt\n",
    "import numpy as np\n",
    "\n",
    "SMALL_SIZE = 6\n",
    "MEDIUM_SIZE = 8\n",
    "BIGGER_SIZE = 10\n",
    "\n",
    "plt.rc('font', size=SMALL_SIZE)          # controls default text sizes\n",
    "plt.rc('axes', titlesize=SMALL_SIZE)     # fontsize of the axes title\n",
    "plt.rc('axes', labelsize=MEDIUM_SIZE)    # fontsize of the x and y labels\n",
    "plt.rc('xtick', labelsize=SMALL_SIZE)    # fontsize of the tick labels\n",
    "plt.rc('ytick', labelsize=SMALL_SIZE)    # fontsize of the tick labels\n",
    "plt.rc('legend', fontsize=SMALL_SIZE)    # legend fontsize\n",
    "plt.rc('figure', titlesize=BIGGER_SIZE)  # fontsize of the figure title\n",
    "\n",
    "def plot_results(results, metrics='ilisi', legend_prefix=None):\n",
    "    if isinstance(metrics, str):\n",
    "        metrics = [metrics]\n",
    "    fig, ax = plt.subplots(1, len(metrics), figsize=(6, 2))\n",
    "    for i, m in enumerate(metrics):\n",
    "        for k, v in results.items():\n",
    "            y = [re[m] for re in v]\n",
    "            x = list(range(len(y)))\n",
    "            label = \"{}={}\".format(legend_prefix, k) \\\n",
    "                if legend_prefix is not None else k\n",
    "            ax[i].plot(x, y, linewidth=2.0, label=label)\n",
    "        ax[i].legend()\n",
    "    plt.show()"
   ]
  },
  {
   "cell_type": "code",
   "execution_count": null,
   "id": "a1c91566",
   "metadata": {},
   "outputs": [],
   "source": [
    "benchmark_results = []\n",
    "\n",
    "confirm_fn = {\n",
    "    'baseline': None,\n",
    "    'threshold = 0.25': lambda pp: auto_confirm(pp, 0.25),\n",
    "    'threshold = 0.5': lambda pp: auto_confirm(pp, 0.5),\n",
    "    'threshold = 1': lambda pp: auto_confirm(pp, 1),\n",
    "}\n",
    "\n",
    "for i in range(1):\n",
    "    exp_results = {}\n",
    "    \n",
    "    ref, qry = load_pancreas()\n",
    "    pp = Polyphony('pancreas-benchmark-{}'.format(i), ref, qry)\n",
    "    \n",
    "    pp.setup_anndata()\n",
    "    pp.init_reference_step()\n",
    "    pp.save_snapshot()\n",
    "\n",
    "    pp = Polyphony.load_snapshot('pancreas-benchmark-{}'.format(i), 0)\n",
    "    pp.update_query_model()\n",
    "    pp.save_snapshot()\n",
    "\n",
    "    for k, v in confirm_fn.items():\n",
    "        exp = Polyphony.load_snapshot('pancreas-benchmark-{}'.format(i), 1)\n",
    "        exp_results[k] = eval.benchmark(exp, confirm_fn=v, warm_epochs=0, step_epochs=100)\n",
    "        benchmark_results.append(exp_results)"
   ]
  }
 ],
 "metadata": {
  "kernelspec": {
   "display_name": "polyphony",
   "language": "python",
   "name": "polyphony"
  },
  "language_info": {
   "codemirror_mode": {
    "name": "ipython",
    "version": 3
   },
   "file_extension": ".py",
   "mimetype": "text/x-python",
   "name": "python",
   "nbconvert_exporter": "python",
   "pygments_lexer": "ipython3",
   "version": "3.8.0"
  }
 },
 "nbformat": 4,
 "nbformat_minor": 5
}
